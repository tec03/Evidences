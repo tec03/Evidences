{
  "nbformat": 4,
  "nbformat_minor": 0,
  "metadata": {
    "colab": {
      "provenance": [],
      "authorship_tag": "ABX9TyOMrwBn3cYHCQTSxV/SwV4C",
      "include_colab_link": true
    },
    "kernelspec": {
      "name": "python3",
      "display_name": "Python 3"
    },
    "language_info": {
      "name": "python"
    }
  },
  "cells": [
    {
      "cell_type": "markdown",
      "metadata": {
        "id": "view-in-github",
        "colab_type": "text"
      },
      "source": [
        "<a href=\"https://colab.research.google.com/github/tec03/Evidences/blob/main/Activity_1_Obtain_a_dataset.ipynb\" target=\"_parent\"><img src=\"https://colab.research.google.com/assets/colab-badge.svg\" alt=\"Open In Colab\"/></a>"
      ]
    },
    {
      "cell_type": "code",
      "execution_count": 1,
      "metadata": {
        "colab": {
          "base_uri": "https://localhost:8080/"
        },
        "id": "9sghDbAMrI2u",
        "outputId": "85b771f0-53e6-482a-e5f1-e56d5ab23fde"
      },
      "outputs": [
        {
          "output_type": "stream",
          "name": "stdout",
          "text": [
            "Prueba\n"
          ]
        }
      ],
      "source": [
        "print('Prueba')"
      ]
    },
    {
      "cell_type": "markdown",
      "source": [
        "# Descripcion de base de dat\n",
        "\n",
        "\n",
        "This data set explains....."
      ],
      "metadata": {
        "id": "qjWLaaJ1ru_t"
      }
    },
    {
      "cell_type": "code",
      "source": [],
      "metadata": {
        "id": "XZU5bhdurXpf"
      },
      "execution_count": null,
      "outputs": []
    }
  ]
}